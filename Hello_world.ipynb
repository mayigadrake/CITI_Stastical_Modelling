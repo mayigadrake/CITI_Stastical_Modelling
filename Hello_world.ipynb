{
  "nbformat": 4,
  "nbformat_minor": 0,
  "metadata": {
    "colab": {
      "provenance": [],
      "authorship_tag": "ABX9TyO1a1w2Ly1//2AHw7XwJkdy",
      "include_colab_link": true
    },
    "kernelspec": {
      "name": "python3",
      "display_name": "Python 3"
    },
    "language_info": {
      "name": "python"
    }
  },
  "cells": [
    {
      "cell_type": "markdown",
      "metadata": {
        "id": "view-in-github",
        "colab_type": "text"
      },
      "source": [
        "<a href=\"https://colab.research.google.com/github/mayigadrake/CITI_Stastical_Modelling/blob/main/Hello_world.ipynb\" target=\"_parent\"><img src=\"https://colab.research.google.com/assets/colab-badge.svg\" alt=\"Open In Colab\"/></a>"
      ]
    },
    {
      "cell_type": "markdown",
      "source": [],
      "metadata": {
        "id": "sB75LISTqtS7"
      }
    },
    {
      "cell_type": "markdown",
      "source": [],
      "metadata": {
        "id": "XinZy9WOqzLF"
      }
    },
    {
      "cell_type": "markdown",
      "source": [],
      "metadata": {
        "id": "HgQn8V-WqtX5"
      }
    },
    {
      "cell_type": "markdown",
      "source": [
        "WELCOME TO **GITHUB**"
      ],
      "metadata": {
        "id": "yiGmpsvjqzSe"
      }
    },
    {
      "cell_type": "code",
      "execution_count": 2,
      "metadata": {
        "colab": {
          "base_uri": "https://localhost:8080/"
        },
        "id": "4rdwGgvDpYCN",
        "outputId": "7ee7915c-42cf-403e-97be-b3861fb09f80"
      },
      "outputs": [
        {
          "output_type": "stream",
          "name": "stdout",
          "text": [
            "Welcome Today\n"
          ]
        }
      ],
      "source": [
        "print (\"Welcome Today\")"
      ]
    }
  ]
}